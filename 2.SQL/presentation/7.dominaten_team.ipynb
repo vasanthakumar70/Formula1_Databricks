{
 "cells": [
  {
   "cell_type": "code",
   "execution_count": 0,
   "metadata": {
    "application/vnd.databricks.v1+cell": {
     "cellMetadata": {
      "byteLimit": 2048000,
      "rowLimit": 10000
     },
     "inputWidgets": {},
     "nuid": "5b1d8a15-505b-4ec0-8f70-fc94af72fdc3",
     "showTitle": false,
     "tableResultSettingsMap": {},
     "title": ""
    }
   },
   "outputs": [],
   "source": [
    "displayHTML(\"<h1 style='text-align: center;'>Dominate Team</h1>\")"
   ]
  },
  {
   "cell_type": "code",
   "execution_count": 0,
   "metadata": {
    "application/vnd.databricks.v1+cell": {
     "cellMetadata": {
      "byteLimit": 2048000,
      "rowLimit": 10000
     },
     "inputWidgets": {},
     "nuid": "25a90ac9-20b1-48bf-8da1-0ec9bbfaf12b",
     "showTitle": false,
     "tableResultSettingsMap": {},
     "title": ""
    }
   },
   "outputs": [],
   "source": [
    "calculated_race_result=spark.read.table(\"f1_final.calculated_race_result\")"
   ]
  },
  {
   "cell_type": "code",
   "execution_count": 0,
   "metadata": {
    "application/vnd.databricks.v1+cell": {
     "cellMetadata": {
      "byteLimit": 2048000,
      "rowLimit": 10000
     },
     "inputWidgets": {},
     "nuid": "7109b03d-40fd-46f0-a230-231ff6b80af3",
     "showTitle": false,
     "tableResultSettingsMap": {},
     "title": ""
    }
   },
   "outputs": [],
   "source": [
    "from pyspark.sql.functions import sum,count,avg,round,col"
   ]
  },
  {
   "cell_type": "code",
   "execution_count": 0,
   "metadata": {
    "application/vnd.databricks.v1+cell": {
     "cellMetadata": {
      "byteLimit": 2048000,
      "rowLimit": 10000
     },
     "inputWidgets": {},
     "nuid": "1cc55e2e-c85e-4c06-9ade-005544725e32",
     "showTitle": false,
     "tableResultSettingsMap": {},
     "title": ""
    }
   },
   "outputs": [],
   "source": [
    "calculated_race_result\\\n",
    "    .groupBy(\"constructor_name\")\\\n",
    "    .agg(count(\"*\").alias(\"total_races\"), \n",
    "         round(sum(\"points\"),2).alias(\"total_points\"), \n",
    "         round(avg(\"points\"),2).alias(\"avg_points\"))\\\n",
    "    .filter(col(\"total_races\")>100)\\\n",
    "    .orderBy(col(\"avg_points\").desc())\\\n",
    "    .display()"
   ]
  },
  {
   "cell_type": "code",
   "execution_count": 0,
   "metadata": {
    "application/vnd.databricks.v1+cell": {
     "cellMetadata": {
      "byteLimit": 2048000,
      "rowLimit": 10000
     },
     "inputWidgets": {},
     "nuid": "f93cd507-9615-4207-a95a-9386843a8287",
     "showTitle": false,
     "tableResultSettingsMap": {},
     "title": ""
    }
   },
   "outputs": [],
   "source": [
    "from pyspark.sql.window import Window\n",
    "from pyspark.sql.functions import dense_rank"
   ]
  },
  {
   "cell_type": "code",
   "execution_count": 0,
   "metadata": {
    "application/vnd.databricks.v1+cell": {
     "cellMetadata": {
      "byteLimit": 2048000,
      "rowLimit": 10000
     },
     "inputWidgets": {},
     "nuid": "7f95b980-ac38-4676-9954-b7434581922e",
     "showTitle": false,
     "tableResultSettingsMap": {},
     "title": ""
    }
   },
   "outputs": [],
   "source": [
    "spec=Window.orderBy(col(\"avg_points\").desc())\n",
    "topteam=calculated_race_result\\\n",
    "    .groupBy(\"constructor_name\")\\\n",
    "    .agg(count(\"*\").alias(\"total_races\"), \n",
    "         sum(\"points\").alias(\"total_points\"), \n",
    "         round(avg(\"points\"),2).alias(\"avg_points\"))\\\n",
    "     .withColumn(\"rank\",dense_rank().over(spec))\\\n",
    "     .filter(col(\"rank\")<=10)\\\n",
    "    .orderBy(col(\"avg_points\").desc())\n"
   ]
  },
  {
   "cell_type": "code",
   "execution_count": 0,
   "metadata": {
    "application/vnd.databricks.v1+cell": {
     "cellMetadata": {
      "byteLimit": 2048000,
      "rowLimit": 10000
     },
     "inputWidgets": {},
     "nuid": "fb796a1f-f48e-4e0a-ae2c-d5d08e55cfed",
     "showTitle": false,
     "tableResultSettingsMap": {},
     "title": ""
    }
   },
   "outputs": [
    {
     "output_type": "display_data",
     "data": {
      "text/plain": [
       "Databricks visualization. Run in Databricks to view."
      ]
     },
     "metadata": {
      "application/vnd.databricks.v1.subcommand+json": {
       "baseErrorDetails": null,
       "bindings": {},
       "collapsed": false,
       "command": "%python\n__backend_agg_display_orig = display\n__backend_agg_dfs = []\ndef __backend_agg_display_new(df):\n    __backend_agg_df_modules = [\"pandas.core.frame\", \"databricks.koalas.frame\", \"pyspark.sql.dataframe\", \"pyspark.pandas.frame\", \"pyspark.sql.connect.dataframe\"]\n    if (type(df).__module__ in __backend_agg_df_modules and type(df).__name__ == 'DataFrame') or isinstance(df, list):\n        __backend_agg_dfs.append(df)\n\ndisplay = __backend_agg_display_new\n\ndef __backend_agg_user_code_fn():\n    import base64\n    exec(base64.standard_b64decode(\"Y2FsY3VsYXRlZF9yYWNlX3Jlc3VsdFwKICAgIC5qb2luKHRvcHRlYW0sICJjb25zdHJ1Y3Rvcl9uYW1lIilcCiAgICAuZ3JvdXBCeSgiY29uc3RydWN0b3JfbmFtZSIsInJhY2VfeWVhciIpXAogICAgLmFnZyhjb3VudCgiKiIpLmFsaWFzKCJ0b3RhbF9yYWNlcyIpLCAKICAgICAgICAgcm91bmQoc3VtKCJwb2ludHMiKSwyKS5hbGlhcygidG90YWxfcG9pbnRzIiksIAogICAgICAgICByb3VuZChhdmcoInBvaW50cyIpLDIpLmFsaWFzKCJhdmdfcG9pbnRzIikpXAogICAgLm9yZGVyQnkoY29sKCJhdmdfcG9pbnRzIikuZGVzYygpKVwKICAgIC5kaXNwbGF5KCk=\").decode())\n\ntry:\n    # run user code\n    __backend_agg_user_code_fn()\n\n    #reset display function\n    display = __backend_agg_display_orig\n\n    if len(__backend_agg_dfs) > 0:\n        # create a temp view\n        if type(__backend_agg_dfs[0]).__module__ == \"databricks.koalas.frame\":\n            # koalas dataframe\n            __backend_agg_dfs[0].to_spark().createOrReplaceTempView(\"DatabricksView73f8980\")\n        elif type(__backend_agg_dfs[0]).__module__ == \"pandas.core.frame\" or isinstance(__backend_agg_dfs[0], list):\n            # pandas dataframe\n            spark.createDataFrame(__backend_agg_dfs[0]).createOrReplaceTempView(\"DatabricksView73f8980\")\n        else:\n            __backend_agg_dfs[0].createOrReplaceTempView(\"DatabricksView73f8980\")\n        #run backend agg\n        display(spark.sql(\"\"\"WITH q AS (select * from DatabricksView73f8980) SELECT `race_year`,`avg_points`,`constructor_name` FROM q\"\"\"))\n    else:\n        displayHTML(\"dataframe no longer exists. If you're using dataframe.display(), use display(dataframe) instead.\")\n\n\nfinally:\n    spark.sql(\"drop view if exists DatabricksView73f8980\")\n    display = __backend_agg_display_orig\n    del __backend_agg_display_new\n    del __backend_agg_display_orig\n    del __backend_agg_dfs\n    del __backend_agg_user_code_fn\n\n",
       "commandTitle": "Visualization 1",
       "commandType": "auto",
       "commandVersion": 0,
       "commentThread": [],
       "commentsVisible": false,
       "contentSha256Hex": null,
       "customPlotOptions": {
        "redashChart": [
         {
          "key": "type",
          "value": "CHART"
         },
         {
          "key": "options",
          "value": {
           "alignYAxesAtZero": true,
           "coefficient": 1,
           "columnConfigurationMap": {
            "series": {
             "column": "constructor_name",
             "id": "column_3f58c8c3328"
            },
            "x": {
             "column": "race_year",
             "id": "column_3f58c8c3327"
            },
            "y": [
             {
              "column": "avg_points",
              "id": "column_3f58c8c3330"
             }
            ]
           },
           "dateTimeFormat": "DD/MM/YYYY HH:mm",
           "direction": {
            "type": "counterclockwise"
           },
           "error_y": {
            "type": "data",
            "visible": true
           },
           "globalSeriesType": "area",
           "isAggregationOn": false,
           "legend": {
            "traceorder": "normal"
           },
           "missingValuesAsZero": true,
           "numberFormat": "0,0.[00000]",
           "percentFormat": "0[.]00%",
           "series": {
            "error_y": {
             "type": "data",
             "visible": true
            },
            "stacking": null
           },
           "seriesOptions": {
            "avg_points": {
             "type": "area",
             "yAxis": 0
            },
            "column_3f58c8c3330": {
             "type": "area",
             "yAxis": 0
            }
           },
           "showDataLabels": false,
           "sizemode": "diameter",
           "sortX": true,
           "sortY": true,
           "swappedAxes": false,
           "textFormat": "",
           "useAggregationsUi": true,
           "valuesOptions": {},
           "version": 2,
           "xAxis": {
            "labels": {
             "enabled": true
            },
            "type": "-"
           },
           "yAxis": [
            {
             "type": "-"
            },
            {
             "opposite": true,
             "type": "-"
            }
           ]
          }
         }
        ]
       },
       "datasetPreviewNameToCmdIdMap": {},
       "diffDeletes": [],
       "diffInserts": [],
       "displayType": "redashChart",
       "error": null,
       "errorDetails": null,
       "errorSummary": null,
       "errorTraceType": null,
       "finishTime": 0,
       "globalVars": {},
       "guid": "",
       "height": "auto",
       "hideCommandCode": false,
       "hideCommandResult": false,
       "iPythonMetadata": null,
       "inputWidgets": {},
       "isLockedInExamMode": false,
       "latestUser": "a user",
       "latestUserId": null,
       "listResultMetadata": null,
       "metadata": {
        "byteLimit": 2048000,
        "rowLimit": 10000
       },
       "nuid": "4a3fc48f-48c2-46f2-86ab-5842adee5bfa",
       "origId": 0,
       "parentHierarchy": [],
       "pivotAggregation": null,
       "pivotColumns": null,
       "position": 5.0,
       "resultDbfsErrorMessage": null,
       "resultDbfsStatus": "INLINED_IN_TREE",
       "results": null,
       "showCommandTitle": false,
       "startTime": 0,
       "state": "input",
       "streamStates": {},
       "subcommandOptions": {
        "queryPlan": {
         "selects": [
          {
           "column": "race_year",
           "type": "column"
          },
          {
           "column": "avg_points",
           "type": "column"
          },
          {
           "column": "constructor_name",
           "type": "column"
          }
         ]
        }
       },
       "submitTime": 0,
       "subtype": "tableResultSubCmd.visualization",
       "tableResultIndex": 0,
       "tableResultSettingsMap": {},
       "useConsistentColors": false,
       "version": "CommandV1",
       "width": "auto",
       "workflows": null,
       "xColumns": null,
       "yColumns": null
      }
     },
     "output_type": "display_data"
    }
   ],
   "source": [
    "calculated_race_result\\\n",
    "    .join(topteam, \"constructor_name\")\\\n",
    "    .groupBy(\"constructor_name\",\"race_year\")\\\n",
    "    .agg(count(\"*\").alias(\"total_races\"), \n",
    "         round(sum(\"points\"),2).alias(\"total_points\"), \n",
    "         round(avg(\"points\"),2).alias(\"avg_points\"))\\\n",
    "    .orderBy(col(\"avg_points\").desc())\\\n",
    "    .display()"
   ]
  }
 ],
 "metadata": {
  "application/vnd.databricks.v1+notebook": {
   "computePreferences": null,
   "dashboards": [
    {
     "elements": [
      {
       "dashboardResultIndex": null,
       "elementNUID": "5b1d8a15-505b-4ec0-8f70-fc94af72fdc3",
       "elementType": "command",
       "guid": "a6215a25-08da-46d6-97ab-c29a0072c4c0",
       "options": null,
       "position": {
        "height": 2,
        "width": 24,
        "x": 0,
        "y": 0,
        "z": null
       },
       "resultIndex": null
      },
      {
       "dashboardResultIndex": null,
       "elementNUID": "4a3fc48f-48c2-46f2-86ab-5842adee5bfa",
       "elementType": "command",
       "guid": "d5583dde-37ab-42c3-bbbb-dd3fb6619ac1",
       "options": null,
       "position": {
        "height": 11,
        "width": 24,
        "x": 0,
        "y": 2,
        "z": null
       },
       "resultIndex": null
      }
     ],
     "globalVars": {},
     "guid": "",
     "layoutOption": {
      "grid": true,
      "stack": false
     },
     "nuid": "a3a88c25-cfbd-43a0-af83-f5b5b4d7cc6b",
     "origId": 2396349145483518,
     "title": "dominate team",
     "version": "DashboardViewV1",
     "width": 1024
    },
    {
     "elements": [
      {
       "dashboardResultIndex": null,
       "elementNUID": "5b1d8a15-505b-4ec0-8f70-fc94af72fdc3",
       "elementType": "command",
       "guid": "17a9a507-1213-42a6-b512-b1416e5d5cc8",
       "options": null,
       "position": {
        "height": 2,
        "width": 24,
        "x": 0,
        "y": 0,
        "z": null
       },
       "resultIndex": null
      },
      {
       "dashboardResultIndex": null,
       "elementNUID": "4a3fc48f-48c2-46f2-86ab-5842adee5bfa",
       "elementType": "command",
       "guid": "5151f5c4-da02-4f40-8dfc-af11d28427e5",
       "options": null,
       "position": {
        "height": 12,
        "width": 24,
        "x": 0,
        "y": 2,
        "z": null
       },
       "resultIndex": null
      }
     ],
     "globalVars": {},
     "guid": "",
     "layoutOption": {
      "grid": true,
      "stack": true
     },
     "nuid": "3db0d968-5bb4-40fd-881b-1d62e4e433b0",
     "origId": 2396349145483519,
     "title": "team",
     "version": "DashboardViewV1",
     "width": 1024
    },
    {
     "elements": [
      {
       "dashboardResultIndex": null,
       "elementNUID": "5b1d8a15-505b-4ec0-8f70-fc94af72fdc3",
       "elementType": "command",
       "guid": "44d26042-c889-4293-8022-6ba70b60fee4",
       "options": null,
       "position": {
        "height": 2,
        "width": 24,
        "x": 0,
        "y": 0,
        "z": null
       },
       "resultIndex": null
      },
      {
       "dashboardResultIndex": null,
       "elementNUID": "4a3fc48f-48c2-46f2-86ab-5842adee5bfa",
       "elementType": "command",
       "guid": "9c7ac112-e99a-4516-ab86-20be7d36dba2",
       "options": null,
       "position": {
        "height": 11,
        "width": 24,
        "x": 0,
        "y": 2,
        "z": null
       },
       "resultIndex": null
      }
     ],
     "globalVars": {},
     "guid": "",
     "layoutOption": {
      "grid": true,
      "stack": true
     },
     "nuid": "af470876-3946-4600-9553-7ed7bcb3ad27",
     "origId": 2396349145483520,
     "title": "team",
     "version": "DashboardViewV1",
     "width": 1024
    }
   ],
   "environmentMetadata": {
    "base_environment": "",
    "client": "1"
   },
   "language": "python",
   "notebookMetadata": {
    "pythonIndentUnit": 4
   },
   "notebookName": "7.dominaten_team",
   "widgets": {}
  },
  "language_info": {
   "name": "python"
  }
 },
 "nbformat": 4,
 "nbformat_minor": 0
}
